{
 "cells": [
  {
   "cell_type": "code",
   "execution_count": 9,
   "id": "aa61b898-191f-48da-a561-41444c5dc626",
   "metadata": {},
   "outputs": [
    {
     "name": "stdin",
     "output_type": "stream",
     "text": [
      "Enter a string:  adhdfyghr\n"
     ]
    },
    {
     "name": "stdout",
     "output_type": "stream",
     "text": [
      "Number of vowels in the string: 1\n",
      "Number of consonants in the string: 8\n"
     ]
    }
   ],
   "source": [
    "def Count_Vowels_And_Consonants(Input_String):\n",
    "    # Initialization of counters for the Vowels & Consonants\n",
    "    Vowel_Count = 0\n",
    "    Consonant_Count = 0\n",
    "    # Defining a set of Vowels for checking efficiently\n",
    "    Vowels = set(\"aeiouAEIOU\")\n",
    "    # for loop used to iterate through each character in the input string\n",
    "    for char in Input_String:\n",
    "        # Checks whether the respective character is an alphabet or not\n",
    "        if char.isalpha():\n",
    "            # if it is an alphabet then it checks whether the character is a vowel\n",
    "            if char in Vowels:\n",
    "                Vowel_Count += 1  # if it is a vowel, vowel_count increases by 1\n",
    "            # else if not a vowel then consonant count increases by 1\n",
    "            else:\n",
    "                Consonant_Count += 1\n",
    "    return Vowel_Count, Consonant_Count\n",
    "def main():\n",
    "    # Get the user's input string\n",
    "    Input_Str = input(\"Enter a string: \")\n",
    "    # Call the function Count_Vowels_And_Consonants\n",
    "    vowel_count, consonant_count = Count_Vowels_And_Consonants(Input_Str)\n",
    "    # Display the result\n",
    "    print(f\"Number of vowels in the string: {vowel_count}\")\n",
    "    print(f\"Number of consonants in the string: {consonant_count}\")\n",
    "if __name__ == \"__main__\":\n",
    "    main()"
   ]
  },
  {
   "cell_type": "code",
   "execution_count": 12,
   "id": "07279412-1448-4e81-9303-503bb015ba43",
   "metadata": {},
   "outputs": [
    {
     "name": "stdin",
     "output_type": "stream",
     "text": [
      "Enter the number of rows for matrix A:  2\n",
      "Enter the number of columns for matrix A:  2\n",
      "Enter row 1 for matrix A separated by space:  1 3\n",
      "Enter row 2 for matrix A separated by space:  2 4\n",
      "Enter the number of rows for matrix B:  2\n",
      "Enter the number of columns for matrix B:  1\n",
      "Enter row 1 for matrix B separated by space:  2\n",
      "Enter row 2 for matrix B separated by space:  3\n"
     ]
    },
    {
     "name": "stdout",
     "output_type": "stream",
     "text": [
      "Matrix A:\n",
      "[1, 3]\n",
      "[2, 4]\n",
      "\n",
      "Matrix B:\n",
      "[2]\n",
      "[3]\n",
      "\n",
      "Product (AB):\n",
      "[11]\n",
      "[16]\n"
     ]
    }
   ],
   "source": [
    "def Matrix_Multiplication(A, B):\n",
    "    num_of_rows_A = len(A)\n",
    "    num_of_cols_A = len(A[0])\n",
    "    num_of_rows_B = len(B)\n",
    "    num_of_cols_B = len(B[0])\n",
    "    if num_of_cols_A != num_of_rows_B:\n",
    "        return None  # Matrices A and B are not multipliable\n",
    "    Result_Matrix = [[0 for _ in range(num_of_cols_B)] for _ in range(num_of_rows_A)]\n",
    "    for i in range(num_of_rows_A):\n",
    "        for j in range(num_of_cols_B):\n",
    "            for k in range(num_of_cols_A):\n",
    "                Result_Matrix[i][j] += A[i][k] * B[k][j]\n",
    "    return Result_Matrix\n",
    "def Get_Matrix_Input(label):\n",
    "    matrix = []\n",
    "    num_of_rows = int(input(f\"Enter the number of rows for matrix {label}: \"))\n",
    "    num_of_cols = int(input(f\"Enter the number of columns for matrix {label}: \"))\n",
    "    for i in range(num_of_rows):\n",
    "        row = [int(x) for x in input(f\"Enter row {i + 1} for matrix {label} separated by space: \").split()]\n",
    "        matrix.append(row)\n",
    "    return matrix\n",
    "# Main program\n",
    "A = Get_Matrix_Input(\"A\")\n",
    "B = Get_Matrix_Input(\"B\")\n",
    "result = Matrix_Multiplication(A, B)\n",
    "if result is not None:\n",
    "    print(\"Matrix A:\")\n",
    "    for row in A:\n",
    "        print(row)\n",
    "    print(\"\\nMatrix B:\")\n",
    "    for row in B:\n",
    "        print(row)\n",
    "    print(\"\\nProduct (AB):\")\n",
    "    for row in result:\n",
    "        print(row)\n",
    "else:\n",
    "    print(\"Error: Matrices A and B are not multipliable.\")"
   ]
  },
  {
   "cell_type": "code",
   "execution_count": 6,
   "id": "e8b70942-2508-4c83-a054-dc67c0cce692",
   "metadata": {},
   "outputs": [
    {
     "name": "stdin",
     "output_type": "stream",
     "text": [
      "Enter a list of integers separated by space:  2 3 4 5 6 7 \n",
      "Enter a list of integers separated by space:  3 4 5 6 2 3\n"
     ]
    },
    {
     "name": "stdout",
     "output_type": "stream",
     "text": [
      "Number of common elements between List A and List B: 5\n"
     ]
    }
   ],
   "source": [
    "def Find_Common_Elements(list1, list2):\n",
    "    Set1 = set(list1)\n",
    "    Set2 = set(list2)\n",
    "    Common_Elements = Set1.intersection(Set2)\n",
    "    return len(Common_Elements)\n",
    "def Get_List_From_User():\n",
    "    while True:\n",
    "        try:\n",
    "            user_input = input(\"Enter a list of integers separated by space: \")\n",
    "            user_list = [int(x) for x in user_input.split()]\n",
    "            return user_list\n",
    "        except ValueError:\n",
    "            print(\"Invalid input. Please enter valid integers.\")\n",
    "# Get user input for the first list\n",
    "List_a = Get_List_From_User()\n",
    "# Get user input for the second list\n",
    "while True:\n",
    "    try:\n",
    "        List_b = Get_List_From_User()\n",
    "        break  # Break out of the loop if input is successful\n",
    "    except ValueError:\n",
    "        print(\"Invalid input. Please enter valid integers.\")\n",
    "# Call the function find_common_elements\n",
    "result = Find_Common_Elements(List_a, List_b)\n",
    "print(f\"Number of common elements between List A and List B: {result}\")"
   ]
  },
  {
   "cell_type": "code",
   "execution_count": 5,
   "id": "c3cdc802-a67d-488b-a76d-5475425245af",
   "metadata": {},
   "outputs": [
    {
     "name": "stdin",
     "output_type": "stream",
     "text": [
      "Enter the number of rows of the matrix:  2\n",
      "Enter the number of columns of the matrix:  2\n",
      "Enter row 1 separated by space:  2 3\n",
      "Enter row 2 separated by space:  4 5\n"
     ]
    },
    {
     "name": "stdout",
     "output_type": "stream",
     "text": [
      "ORIGINAL MATRIX:\n",
      "[2, 3]\n",
      "[4, 5]\n",
      "TRANSPOSE OF MATRIX:\n",
      "[2, 4]\n",
      "[3, 5]\n"
     ]
    }
   ],
   "source": [
    "# function to transpose matrix\n",
    "def Transpose_of_Matrix(matrix):\n",
    "    Num_of_Rows = len(matrix)\n",
    "    Num_of_Columns = len(matrix[0])\n",
    "    Transposed = [[matrix[j][i] for j in range(Num_of_Rows)] for i in range(Num_of_Columns)]\n",
    "    return Transposed\n",
    "# get the matrix input\n",
    "def Get_Matrix_Input():\n",
    "    matrix = []\n",
    "    Num_of_Rows = int(input(\"Enter the number of rows of the matrix: \"))\n",
    "    Num_of_Columns = int(input(\"Enter the number of columns of the matrix: \"))\n",
    "    for i in range(Num_of_Rows):\n",
    "        row = [int(x) for x in input(f\"Enter row {i + 1} separated by space: \").split()]\n",
    "        matrix.append(row)\n",
    "    return matrix\n",
    "def print_matrix(matrix, label):\n",
    "    print(label + \":\")\n",
    "    for Row in matrix:\n",
    "        print(Row)\n",
    "Input_Matrix = Get_Matrix_Input()\n",
    "# Call the Transpose_of_Matrix function\n",
    "Transposed_of_Matrix = Transpose_of_Matrix(Input_Matrix)\n",
    "# Print the original and transposed matrices\n",
    "print_matrix(Input_Matrix, \"ORIGINAL MATRIX\")\n",
    "print_matrix(Transposed_of_Matrix, \"TRANSPOSE OF MATRIX\")"
   ]
  },
  {
   "cell_type": "code",
   "execution_count": null,
   "id": "1efb10e5-8588-40f6-a156-ff9ea3a99541",
   "metadata": {},
   "outputs": [],
   "source": []
  }
 ],
 "metadata": {
  "kernelspec": {
   "display_name": "Python 3 (ipykernel)",
   "language": "python",
   "name": "python3"
  },
  "language_info": {
   "codemirror_mode": {
    "name": "ipython",
    "version": 3
   },
   "file_extension": ".py",
   "mimetype": "text/x-python",
   "name": "python",
   "nbconvert_exporter": "python",
   "pygments_lexer": "ipython3",
   "version": "3.11.4"
  }
 },
 "nbformat": 4,
 "nbformat_minor": 5
}
