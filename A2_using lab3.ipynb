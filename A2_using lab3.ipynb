{
 "cells": [
  {
   "cell_type": "code",
   "execution_count": 1,
   "id": "237d820d-572f-4a39-bdc7-b1e54edd3ef2",
   "metadata": {},
   "outputs": [
    {
     "name": "stdout",
     "output_type": "stream",
     "text": [
      "All Column Names: Index(['Customer', 'Candies (#)', 'Mangoes (Kg)', 'Milk Packets (#)',\n",
      "       'Payment (Rs)', 'Unnamed: 5', 'Unnamed: 6', 'Unnamed: 7', 'Unnamed: 8',\n",
      "       'Unnamed: 9', 'Unnamed: 10', 'Unnamed: 11', 'Unnamed: 12',\n",
      "       'Unnamed: 13', 'Unnamed: 14', 'Unnamed: 15', 'Unnamed: 16',\n",
      "       'Unnamed: 17', 'Unnamed: 18', 'Candy', 'Mango', 'Milk'],\n",
      "      dtype='object')\n",
      "Actual Values: [18.]\n",
      "Predicted Values: [18.]\n",
      "Insufficient samples to calculate R-squared.\n",
      "Mean Squared Error (MSE): 0.0\n",
      "Root Mean Squared Error (RMSE): 0.0\n",
      "Mean Absolute Percentage Error (MAPE): 0.0\n"
     ]
    }
   ],
   "source": [
    "\n",
    "\n",
    "import pandas as pd\n",
    "import numpy as np\n",
    "from sklearn.metrics import mean_squared_error, mean_absolute_error, r2_score\n",
    "\n",
    "file_path = r\"C:\\Users\\pinni\\Downloads\\Lab Session1 Data.xlsx\"\n",
    "df = pd.read_excel(file_path, sheet_name=\"Purchase data\")\n",
    "\n",
    "print(\"All Column Names:\", df.columns)\n",
    "\n",
    "actual_prices_column_name = 'Milk'\n",
    "predicted_prices_column_name = 'Milk'\n",
    "\n",
    "actual_prices = df[actual_prices_column_name].values\n",
    "predicted_prices = df[predicted_prices_column_name].values\n",
    "\n",
    "df_cleaned = df.dropna(subset=[actual_prices_column_name, predicted_prices_column_name])\n",
    "\n",
    "actual_prices = df_cleaned[actual_prices_column_name].values\n",
    "predicted_prices = df_cleaned[predicted_prices_column_name].values\n",
    "\n",
    "print(\"Actual Values:\", actual_prices)\n",
    "print(\"Predicted Values:\", predicted_prices)\n",
    "\n",
    "mse = mean_squared_error(actual_prices, predicted_prices)\n",
    "\n",
    "rmse = np.sqrt(mse)\n",
    "\n",
    "mape = np.mean(np.abs((actual_prices - predicted_prices) / actual_prices)) * 100\n",
    "\n",
    "if len(actual_prices) >= 2:\n",
    "    r2 = r2_score(actual_prices, predicted_prices)\n",
    "    print(f'R-squared (R2) score: {r2}')\n",
    "else:\n",
    "    print('Insufficient samples to calculate R-squared.')\n",
    "\n",
    "print(f'Mean Squared Error (MSE): {mse}')\n",
    "print(f'Root Mean Squared Error (RMSE): {rmse}')\n",
    "print(f'Mean Absolute Percentage Error (MAPE): {mape}')"
   ]
  },
  {
   "cell_type": "code",
   "execution_count": null,
   "id": "798d0a21-030d-4da1-b1a8-061599881296",
   "metadata": {},
   "outputs": [],
   "source": []
  }
 ],
 "metadata": {
  "kernelspec": {
   "display_name": "Python 3 (ipykernel)",
   "language": "python",
   "name": "python3"
  },
  "language_info": {
   "codemirror_mode": {
    "name": "ipython",
    "version": 3
   },
   "file_extension": ".py",
   "mimetype": "text/x-python",
   "name": "python",
   "nbconvert_exporter": "python",
   "pygments_lexer": "ipython3",
   "version": "3.11.4"
  }
 },
 "nbformat": 4,
 "nbformat_minor": 5
}
