{
 "cells": [
  {
   "cell_type": "markdown",
   "id": "061a362b-0a1d-429c-b19f-bb6d0ccd1458",
   "metadata": {},
   "source": [
    "### Question1 \n"
   ]
  },
  {
   "cell_type": "code",
   "execution_count": 1,
   "id": "1f680338-1405-4a08-82ff-f4eb59e0b528",
   "metadata": {},
   "outputs": [
    {
     "name": "stdin",
     "output_type": "stream",
     "text": [
      "Enter the 1st vector (comma-separated values):  2,3,5\n",
      "Enter the 2nd vector (comma-separated values):  3,5,4\n"
     ]
    },
    {
     "name": "stdout",
     "output_type": "stream",
     "text": [
      "Euclidean Distance: 2.449489742783178\n",
      "Manhattan Distance: 4.0\n"
     ]
    }
   ],
   "source": [
    "import math\n",
    "\n",
    "def Euclidean_Distance(Vector1, Vector2):\n",
    "    if len(Vector1) != len(Vector2):\n",
    "        raise ValueError(\"Vectors should be in same dimensionality\")\n",
    "    \n",
    "    Squared_Distances = [(a - b)**2 for a, b in zip(Vector1, Vector2)]\n",
    "    Sum_Of_Squares = sum(Squared_Distances)\n",
    "    Euclidean_Distance = math.sqrt(Sum_Of_Squares)\n",
    "    \n",
    "    return Euclidean_Distance\n",
    "\n",
    "def Manhattan_Distance(Vector1, Vector2):\n",
    "    if len(Vector1) != len(Vector2):\n",
    "        raise ValueError(\"Vectors should be in same dimensionality\")\n",
    "    \n",
    "    Manhattan_Distance = sum(abs(a - b) for a, b in zip(Vector1, Vector2))\n",
    "    \n",
    "    return Manhattan_Distance\n",
    "\n",
    "# Function to get the userinput for vectors\n",
    "def get_user_input():\n",
    "    Vector1 = input(\"Enter the 1st vector (comma-separated values): \")\n",
    "    Vector2 = input(\"Enter the 2nd vector (comma-separated values): \")\n",
    "\n",
    "    # Convert input strings to lists of floats\n",
    "    Vector1 = [float(x.strip()) for x in Vector1.split(',')]\n",
    "    Vector2 = [float(x.strip()) for x in Vector2.split(',')]\n",
    "\n",
    "    return Vector1, Vector2\n",
    "\n",
    "# Example for usage in the main program\n",
    "Vector_a, Vector_b = get_user_input()\n",
    "\n",
    "# Calculate the Euclidean distance\n",
    "Euclidean_Result = Euclidean_Distance(Vector_a, Vector_b)\n",
    "\n",
    "# Calculate the  Manhattan distance\n",
    "Manhattan_Result = Manhattan_Distance(Vector_a, Vector_b)\n",
    "\n",
    "# Print the results\n",
    "print(f\"Euclidean Distance: {Euclidean_Result}\")\n",
    "print(f\"Manhattan Distance: {Manhattan_Result}\")\n"
   ]
  },
  {
   "cell_type": "markdown",
   "id": "61f20dbd-aa4e-4c69-88b9-a67cc004c39f",
   "metadata": {},
   "source": [
    "### ___________________________________________________________________________\n"
   ]
  },
  {
   "cell_type": "markdown",
   "id": "a52aa649-0017-4ab8-b643-e970fcf62770",
   "metadata": {},
   "source": [
    "### Question 2 (with out data set)"
   ]
  },
  {
   "cell_type": "code",
   "execution_count": 7,
   "id": "664942dc-fc30-424c-b087-22b002bf093a",
   "metadata": {},
   "outputs": [
    {
     "name": "stdin",
     "output_type": "stream",
     "text": [
      "Enter the number of training instances:  2\n",
      "Enter training instance 1 (comma-separated values):  2.0,3.0\n",
      "Enter label for training instance 1:  Class_A\n",
      "Enter training instance 2 (comma-separated values):  4.0,5.0\n",
      "Enter label for training instance 2:  Class_B\n",
      "Enter test instance (comma-separated values):  3.0,4.0\n",
      "Enter the value of k:  1\n"
     ]
    },
    {
     "name": "stdout",
     "output_type": "stream",
     "text": [
      "Predicted Label: Class_A\n"
     ]
    }
   ],
   "source": [
    "\n",
    "def calculate_euclidean_distance(vector1, vector2):\n",
    "    if len(vector1) != len(vector2):\n",
    "        raise ValueError(\"Vectors must have the same dimensionality\")\n",
    "\n",
    "    squared_diff = sum((x - y) ** 2 for x, y in zip(vector1, vector2))\n",
    "    return squared_diff ** 0.5\n",
    "\n",
    "def knn_classifier(training_data, labels, test_instance, k):\n",
    "    distances = []\n",
    "    for index, training_instance in enumerate(training_data):\n",
    "        distance = calculate_euclidean_distance(training_instance, test_instance)\n",
    "        distances.append((index, distance))\n",
    "\n",
    "    # Sort distances\n",
    "    distances.sort(key=lambda x: x[1])\n",
    "\n",
    "    # Get the indices of the k nearest neighbors\n",
    "    k_nearest_indices = [index for index, _ in distances[:k]]\n",
    "\n",
    "    # Get the labels of the k nearest neighbors\n",
    "    k_nearest_labels = [labels[index] for index in k_nearest_indices]\n",
    "\n",
    "    # Count the occurrences of each label\n",
    "    label_counts = {}\n",
    "    for label in k_nearest_labels:\n",
    "        if label in label_counts:\n",
    "            label_counts[label] += 1\n",
    "        else:\n",
    "            label_counts[label] = 1\n",
    "\n",
    "    # Determine the majority label\n",
    "    majority_label = max(label_counts, key=label_counts.get)\n",
    "\n",
    "    return majority_label\n",
    "\n",
    "# Get user input for training data\n",
    "num_instances = int(input(\"Enter the number of training instances: \"))\n",
    "training_data = []\n",
    "labels = []\n",
    "for i in range(num_instances):\n",
    "    instance = [float(x) for x in input(f\"Enter training instance {i+1} (comma-separated values): \").split(\",\")]\n",
    "    label = input(f\"Enter label for training instance {i+1}: \")\n",
    "    training_data.append(instance)\n",
    "    labels.append(label)\n",
    "\n",
    "# Get user input for test instance\n",
    "test_instance = [float(x) for x in input(\"Enter test instance (comma-separated values): \").split(\",\")]\n",
    "\n",
    "# Get user input for k\n",
    "k = int(input(\"Enter the value of k: \"))\n",
    "\n",
    "# Call the knn_classifier function with user input\n",
    "predicted_label = knn_classifier(training_data, labels, test_instance, k)\n",
    "print(\"Predicted Label:\", predicted_label)\n"
   ]
  },
  {
   "cell_type": "markdown",
   "id": "d1075ecc-bc65-4174-8131-65f8a73b45b2",
   "metadata": {},
   "source": [
    "### Question 2 (using data set)"
   ]
  },
  {
   "cell_type": "code",
   "execution_count": 6,
   "id": "2b44fa63-37b4-4e11-bbbd-fdf5341b2547",
   "metadata": {},
   "outputs": [
    {
     "name": "stdin",
     "output_type": "stream",
     "text": [
      "Enter label for training instance 1:  unavaliable\n",
      "Enter test instance (comma-separated numeric values):  16.0, 0, 4, 4.00, 0, 0, 0, 0, 0, 64-bit, Up to 25 Gigabit, 4750.0, 593.75, 18750.0, Yes, 60, 4, No, Yes, Yes, No, Unknown, No, use1-az1, use1-az2, use1-az4, use1-az5, use1-az6, $0.272, $0.171, $0.071500, $0.207800, $0.332, $0.231, $0.131500, $0.267800\n",
      "Enter the value of k:  3\n"
     ]
    },
    {
     "name": "stdout",
     "output_type": "stream",
     "text": [
      "Predicted Label: No Valid Labels\n"
     ]
    }
   ],
   "source": [
    "import pandas as pd\n",
    "\n",
    "def calculate_euclidean_distance(vector1, vector2):\n",
    "    if len(vector1) != len(vector2):\n",
    "        raise ValueError(\"Vectors must have the same dimensionality\")\n",
    "\n",
    "    squared_diff = sum((x - y) ** 2 for x, y in zip(vector1, vector2))\n",
    "    return squared_diff ** 0.5\n",
    "\n",
    "def knn_classifier(training_data, labels, test_instance, k):\n",
    "    distances = []\n",
    "    for index, training_instance in enumerate(training_data):\n",
    "        distance = calculate_euclidean_distance(training_instance, test_instance)\n",
    "        distances.append((index, distance))\n",
    "\n",
    "    # Sort distances\n",
    "    distances.sort(key=lambda x: x[1])\n",
    "\n",
    "    # Get the indices of the k nearest neighbors\n",
    "    k_nearest_indices = [index for index, _ in distances[:k]]\n",
    "\n",
    "    # Get the labels of the k nearest neighbors (handling index out of range)\n",
    "    k_nearest_labels = [labels[index] if index < len(labels) else None for index in k_nearest_indices]\n",
    "\n",
    "    # Remove None values (handles index out of range gracefully)\n",
    "    k_nearest_labels = [label for label in k_nearest_labels if label is not None]\n",
    "\n",
    "    # Count the occurrences of each label\n",
    "    label_counts = {}\n",
    "    for label in k_nearest_labels:\n",
    "        if label in label_counts:\n",
    "            label_counts[label] += 1\n",
    "        else:\n",
    "            label_counts[label] = 1\n",
    "\n",
    "    # Determine the majority label or use a default label if no valid labels are present\n",
    "    majority_label = max(label_counts, key=label_counts.get, default=\"No Valid Labels\")\n",
    "\n",
    "    return majority_label\n",
    "\n",
    "# Read the dataset from the CSV file\n",
    "file_path = r\"C:\\Users\\pinni\\OneDrive - Amrita vishwa vidyapeetham\\jupyter projects\\ML\\Amazon EC2 Instance Comparison.csv\"\n",
    "df = pd.read_csv(file_path)\n",
    "\n",
    "# Extract numerical data from the \"Memory\" column\n",
    "numerical_data = df[\"Memory\"].str.extract('(\\d+\\.\\d+)').astype(float)\n",
    "\n",
    "# Get user input for labels for all instances\n",
    "labels = []\n",
    "for i, numerical_value in enumerate(numerical_data):\n",
    "    label = input(f\"Enter label for training instance {i+1}: \")\n",
    "    labels.append(label)\n",
    "\n",
    "# Get user input for test instance\n",
    "test_instance_input = input(\"Enter test instance (comma-separated numeric values): \")\n",
    "test_instance_values = [float(x.strip()) for x in test_instance_input.split(\",\") if x.replace(\".\", \"\", 1).isdigit()]\n",
    "\n",
    "# Check if there are valid numeric values for the test instance\n",
    "if not test_instance_values:\n",
    "    print(\"Error: No valid numeric values provided for the test instance.\")\n",
    "else:\n",
    "    # Get user input for k\n",
    "    k = int(input(\"Enter the value of k: \"))\n",
    "\n",
    "    # Call the knn_classifier function with user input\n",
    "    predicted_label = knn_classifier(numerical_data.values.tolist(), labels, test_instance_values, k)\n",
    "    print(\"Predicted Label:\", predicted_label)\n"
   ]
  },
  {
   "cell_type": "markdown",
   "id": "81ab8e42-dedc-4da6-87c9-4ee0c9bf4f9f",
   "metadata": {},
   "source": [
    "### _____________________________________________________________________"
   ]
  },
  {
   "cell_type": "markdown",
   "id": "be026165-350f-4e95-bb7d-7d76e097ab0f",
   "metadata": {},
   "source": [
    "### Question 3(with out data set)"
   ]
  },
  {
   "cell_type": "code",
   "execution_count": 11,
   "id": "fbfa6590-7374-4f13-ba5f-bb7d4709a69a",
   "metadata": {},
   "outputs": [
    {
     "name": "stdin",
     "output_type": "stream",
     "text": [
      "Enter categorical data (comma-separated values):  red,green,blue,red\n"
     ]
    },
    {
     "name": "stdout",
     "output_type": "stream",
     "text": [
      "Original data: ['red', 'green', 'blue', 'red']\n",
      "Encoded data: [0, 2, 1, 0]\n"
     ]
    }
   ],
   "source": [
    "def label_encode_categorical(data):\n",
    "    unique_labels = list(set(data))\n",
    "    label_dict = {label: i for i, label in enumerate(unique_labels)}\n",
    "    encoded_data = [label_dict[label] for label in data]\n",
    "    return encoded_data\n",
    "\n",
    "# Get user input for categorical data\n",
    "categorical_data = input(\"Enter categorical data (comma-separated values): \").split(\",\")\n",
    "\n",
    "# Call the label_encode_categorical function with the user input data\n",
    "encoded_data = label_encode_categorical(categorical_data)\n",
    "\n",
    "# Print the original and encoded data\n",
    "print(\"Original data:\", categorical_data)\n",
    "print(\"Encoded data:\", encoded_data)\n",
    "\n",
    "\n"
   ]
  },
  {
   "cell_type": "markdown",
   "id": "4b230f32-9b0f-4faf-971c-8aa68c7010d9",
   "metadata": {},
   "source": [
    "### Question 3 (using data set)\n"
   ]
  },
  {
   "cell_type": "code",
   "execution_count": 8,
   "id": "94ac4a2d-660d-4626-af9d-106ddb52d9cc",
   "metadata": {},
   "outputs": [
    {
     "name": "stdout",
     "output_type": "stream",
     "text": [
      "Original Data:\n",
      "       Arch\n",
      "0    64-bit\n",
      "1    64-bit\n",
      "2    64-bit\n",
      "3    64-bit\n",
      "4    64-bit\n",
      "..      ...\n",
      "500  64-bit\n",
      "501  64-bit\n",
      "502  64-bit\n",
      "503  64-bit\n",
      "504  64-bit\n",
      "\n",
      "[505 rows x 1 columns]\n",
      "Numeric Representation:\n",
      "     Arch_encoded\n",
      "0               1\n",
      "1               1\n",
      "2               1\n",
      "3               1\n",
      "4               1\n",
      "..            ...\n",
      "500             1\n",
      "501             1\n",
      "502             1\n",
      "503             1\n",
      "504             1\n",
      "\n",
      "[505 rows x 1 columns]\n"
     ]
    }
   ],
   "source": [
    "import pandas as pd\n",
    "\n",
    "def Label_encode_categorical(Data):\n",
    "    Unique_Categories = list(set(Data))\n",
    "    Category_Mapping = {Category: index for index, Category in enumerate(Unique_Categories)}\n",
    "    \n",
    "    Numeric_Representation = [Category_Mapping[Category] for Category in Data]\n",
    "    \n",
    "    return Numeric_Representation\n",
    "\n",
    "# Loading my Kaggle dataset\n",
    "file_path = r'C:\\Users\\pinni\\OneDrive - Amrita vishwa vidyapeetham\\jupyter projects\\ML\\Amazon EC2 Instance Comparison.csv'\n",
    "df = pd.read_csv(file_path)\n",
    "\n",
    "#  a column to perform label encoding \n",
    "Categorical_Column = 'Arch'\n",
    "\n",
    "# Apply label encoding to the chosen column\n",
    "df[Categorical_Column + '_encoded'] = Label_encode_categorical(df[Categorical_Column])\n",
    "\n",
    "# Print the results\n",
    "print(f\"Original Data:\\n{df[[Categorical_Column]]}\")\n",
    "print(f\"Numeric Representation:\\n{df[[Categorical_Column + '_encoded']]}\")\n"
   ]
  },
  {
   "cell_type": "markdown",
   "id": "8205d984-e82c-4912-a4e3-e9786d9f657e",
   "metadata": {},
   "source": [
    "### ______________________________________________________________________________"
   ]
  },
  {
   "cell_type": "markdown",
   "id": "aab466d0-7090-47f0-ad20-943ac1dff56a",
   "metadata": {},
   "source": [
    "### Question 4 (with out data set)"
   ]
  },
  {
   "cell_type": "code",
   "execution_count": 10,
   "id": "5a5953c7-588f-4bc8-81bb-77c175471daa",
   "metadata": {},
   "outputs": [
    {
     "name": "stdin",
     "output_type": "stream",
     "text": [
      "Enter categorical data (comma-separated values):  red,green,blue,red\n"
     ]
    },
    {
     "name": "stdout",
     "output_type": "stream",
     "text": [
      "Original data: ['red', 'green', 'blue', 'red']\n",
      "Encoded data:\n",
      "[1, 0, 0]\n",
      "[0, 0, 1]\n",
      "[0, 1, 0]\n",
      "[1, 0, 0]\n"
     ]
    }
   ],
   "source": [
    "def one_hot_encode_categorical(data):\n",
    "    unique_labels = list(set(data))\n",
    "    encoded_data = []\n",
    "    for item in data:\n",
    "        encoded_item = [0] * len(unique_labels)\n",
    "        index = unique_labels.index(item)\n",
    "        encoded_item[index] = 1\n",
    "        encoded_data.append(encoded_item)\n",
    "    return encoded_data\n",
    "\n",
    "# Get user input for categorical data\n",
    "categorical_data = input(\"Enter categorical data (comma-separated values): \").split(\",\")\n",
    "\n",
    "encoded_data = one_hot_encode_categorical(categorical_data)\n",
    "\n",
    "# Print the original and encoded data\n",
    "print(\"Original data:\", categorical_data)\n",
    "print(\"Encoded data:\")\n",
    "for encoded_item in encoded_data:\n",
    "    print(encoded_item)\n"
   ]
  },
  {
   "cell_type": "markdown",
   "id": "13d1369f-4d1a-4f83-8bb7-f4553b5685dc",
   "metadata": {},
   "source": [
    "### Question 4 (using data set)"
   ]
  },
  {
   "cell_type": "code",
   "execution_count": 9,
   "id": "76ce4ce0-6055-403e-bc43-6ee32aea19ee",
   "metadata": {},
   "outputs": [
    {
     "name": "stdout",
     "output_type": "stream",
     "text": [
      "One-Hot Encoded Data:\n",
      "                                              Name       API Name      Memory  \\\n",
      "0                                     M6A 24xlarge   m6a.24xlarge   384.0 GiB   \n",
      "1                                 M5DN Extra Large    m5dn.xlarge    16.0 GiB   \n",
      "2                            C6A Eight Extra Large    c6a.8xlarge    64.0 GiB   \n",
      "3    G5 Graphics and Machine Learning GPU 16xlarge    g5.16xlarge   256.0 GiB   \n",
      "4                                    R5AD 16xlarge  r5ad.16xlarge   512.0 GiB   \n",
      "..                                             ...            ...         ...   \n",
      "500                                       T3 Large       t3.large     8.0 GiB   \n",
      "501                                    VT1 6xlarge    vt1.6xlarge    48.0 GiB   \n",
      "502                                   U-9TB1 Metal   u-9tb1.metal  9216.0 GiB   \n",
      "503                                  G4DN 12xlarge  g4dn.12xlarge   192.0 GiB   \n",
      "504           P4D Highest Performance GPU 24xlarge   p4d.24xlarge  1152.0 GiB   \n",
      "\n",
      "                         Compute Units (ECU)  \\\n",
      "0                                    0 units   \n",
      "1                                    0 units   \n",
      "2                                    0 units   \n",
      "3                                    0 units   \n",
      "4                                    0 units   \n",
      "..                                       ...   \n",
      "500  Base performance:                   60%   \n",
      "501                                  0 units   \n",
      "502                                  0 units   \n",
      "503                                  0 units   \n",
      "504                                345 units   \n",
      "\n",
      "                                                 vCPUs GiB of Memory per vCPU  \\\n",
      "0                                             96 vCPUs          4.00 GiB/vCPU   \n",
      "1                                              4 vCPUs          4.00 GiB/vCPU   \n",
      "2                                             32 vCPUs          2.00 GiB/vCPU   \n",
      "3                                             64 vCPUs          4.00 GiB/vCPU   \n",
      "4                                             64 vCPUs          8.00 GiB/vCPU   \n",
      "..                                                 ...                    ...   \n",
      "500  2 vCPUs                                       ...          4.00 GiB/vCPU   \n",
      "501                                           24 vCPUs          2.00 GiB/vCPU   \n",
      "502                                          448 vCPUs         20.57 GiB/vCPU   \n",
      "503                                           48 vCPUs          4.00 GiB/vCPU   \n",
      "504                                           96 vCPUs         12.00 GiB/vCPU   \n",
      "\n",
      "     GPUs              GPU model GPU memory  CUDA Compute Capability  ...  \\\n",
      "0       0                    NaN      0 GiB                      0.0  ...   \n",
      "1       0                    NaN      0 GiB                      0.0  ...   \n",
      "2       0                    NaN      0 GiB                      0.0  ...   \n",
      "3       1            NVIDIA A10G     24 GiB                      7.5  ...   \n",
      "4       0                    NaN      0 GiB                      0.0  ...   \n",
      "..    ...                    ...        ...                      ...  ...   \n",
      "500     0                    NaN      0 GiB                      0.0  ...   \n",
      "501     0                    NaN      0 GiB                      0.0  ...   \n",
      "502     0                    NaN      0 GiB                      0.0  ...   \n",
      "503     4  NVIDIA T4 Tensor Core     64 GiB                      7.5  ...   \n",
      "504     8            NVIDIA A100    320 GiB                      8.0  ...   \n",
      "\n",
      "     Linux SQL Std On Demand cost Linux SQL Std Reserved cost  \\\n",
      "0                 $15.6672 hourly            $14.26337 hourly   \n",
      "1                   $0.752 hourly               $0.651 hourly   \n",
      "2                   $5.064 hourly             $4.64968 hourly   \n",
      "3                     unavailable                 unavailable   \n",
      "4                  $11.872 hourly              $10.321 hourly   \n",
      "..                            ...                         ...   \n",
      "500                   unavailable                 unavailable   \n",
      "501                   unavailable                 unavailable   \n",
      "502                   unavailable                 unavailable   \n",
      "503                   unavailable                 unavailable   \n",
      "504                   unavailable                 unavailable   \n",
      "\n",
      "    Linux SQL Ent On Demand cost Linux SQL Ent Reserved cost  \\\n",
      "0                $40.1472 hourly            $38.74337 hourly   \n",
      "1                  $1.772 hourly               $1.671 hourly   \n",
      "2                 $13.224 hourly            $12.80968 hourly   \n",
      "3                    unavailable                 unavailable   \n",
      "4                 $28.192 hourly              $26.641 hourly   \n",
      "..                           ...                         ...   \n",
      "500                  unavailable                 unavailable   \n",
      "501                  unavailable                 unavailable   \n",
      "502                  unavailable                 unavailable   \n",
      "503                  unavailable                 unavailable   \n",
      "504                  unavailable                 unavailable   \n",
      "\n",
      "    EBS Optimized surcharge     EMR cost Linux Virtualization_Unknown  \\\n",
      "0                         0  unavailable                            1   \n",
      "1                         0  unavailable                            1   \n",
      "2                         0  unavailable                            1   \n",
      "3                         0  unavailable                            1   \n",
      "4                         0  unavailable                            1   \n",
      "..                      ...          ...                          ...   \n",
      "500                       0  unavailable                            1   \n",
      "501                       0  unavailable                            1   \n",
      "502                       0  unavailable                            1   \n",
      "503                       0  unavailable                            1   \n",
      "504                       0  unavailable                            1   \n",
      "\n",
      "    Linux Virtualization_HVM Linux Virtualization_HVM, PV  \\\n",
      "0                          0                            0   \n",
      "1                          0                            0   \n",
      "2                          0                            0   \n",
      "3                          0                            0   \n",
      "4                          0                            0   \n",
      "..                       ...                          ...   \n",
      "500                        0                            0   \n",
      "501                        0                            0   \n",
      "502                        0                            0   \n",
      "503                        0                            0   \n",
      "504                        0                            0   \n",
      "\n",
      "    Linux Virtualization_PV  \n",
      "0                         0  \n",
      "1                         0  \n",
      "2                         0  \n",
      "3                         0  \n",
      "4                         0  \n",
      "..                      ...  \n",
      "500                       0  \n",
      "501                       0  \n",
      "502                       0  \n",
      "503                       0  \n",
      "504                       0  \n",
      "\n",
      "[505 rows x 69 columns]\n"
     ]
    }
   ],
   "source": [
    "import pandas as pd\n",
    "\n",
    "def One_Hot_Encode_Categorical(Data, Categorical_column1):\n",
    "    # Get  unique categories in  specified column :\n",
    "    Unique_Categories = Data[Categorical_column1].unique()\n",
    "\n",
    "    # Create new columns for the each unique category and initialize with the zeros\n",
    "    for category in Unique_Categories:\n",
    "        Data[Categorical_column1 + '_' + str(category)] = 0\n",
    "\n",
    "    # Set corresponding one-hot the encoded values to 1\n",
    "    for i, category in enumerate(Unique_Categories):\n",
    "        Data.loc[Data[Categorical_column1] == category, Categorical_column1 + '_' + str(category)] = 1\n",
    "\n",
    "    # Drop  original categorical column\n",
    "    Data = Data.drop(Categorical_column1, axis=1)\n",
    "\n",
    "    return Data\n",
    "\n",
    "# Load your Kaggle dataset\n",
    "file_path = r'C:\\Users\\pinni\\OneDrive - Amrita vishwa vidyapeetham\\jupyter projects\\ML\\Amazon EC2 Instance Comparison.csv'\n",
    "df = pd.read_csv(file_path)\n",
    "\n",
    "# Choose a column to perform one-hot encoding (replace 'Arch' with your column name)\n",
    "Categorical_column1 = 'Linux Virtualization'\n",
    "\n",
    "# Apply one-hot encoding to the chosen column\n",
    "df = One_Hot_Encode_Categorical(df, Categorical_column1)\n",
    "\n",
    "# Print the results\n",
    "print(\"One-Hot Encoded Data:\")\n",
    "print(df)\n"
   ]
  },
  {
   "cell_type": "code",
   "execution_count": null,
   "id": "2144c0de-c5a1-43f6-bdaf-22df399a912c",
   "metadata": {},
   "outputs": [],
   "source": []
  }
 ],
 "metadata": {
  "kernelspec": {
   "display_name": "Python 3 (ipykernel)",
   "language": "python",
   "name": "python3"
  },
  "language_info": {
   "codemirror_mode": {
    "name": "ipython",
    "version": 3
   },
   "file_extension": ".py",
   "mimetype": "text/x-python",
   "name": "python",
   "nbconvert_exporter": "python",
   "pygments_lexer": "ipython3",
   "version": "3.11.4"
  }
 },
 "nbformat": 4,
 "nbformat_minor": 5
}
